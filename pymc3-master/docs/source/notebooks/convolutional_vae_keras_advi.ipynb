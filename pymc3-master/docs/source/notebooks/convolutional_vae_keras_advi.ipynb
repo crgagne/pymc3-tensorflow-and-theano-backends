{
 "cells": [
  {
   "cell_type": "markdown",
   "metadata": {},
   "source": [
    "# Convolutional variational autoencoder with PyMC3 and Keras"
   ]
  },
  {
   "cell_type": "markdown",
   "metadata": {},
   "source": [
    "In this document, I will show how autoencoding variational Bayes (AEVB) works in PyMC3's automatic differentiation variational inference (ADVI). The example here is borrowed from [Keras example](https://github.com/fchollet/keras/blob/master/examples/variational_autoencoder_deconv.py), where convolutional variational autoencoder is applied to the MNIST dataset. The network architecture of the encoder and decoder are the same. However, PyMC3 allows us to define a probabilistic model, which combines the encoder and decoder, in the same way as other probabilistic models (e.g., generalized linear models), rather than directly implementing of Monte Carlo sampling and the loss function, as is done in the Keras example. Thus the framework of AEVB in PyMC3 can be extended to more complex models such as [latent dirichlet allocation](https://taku-y.github.io/notebook/20160928/lda-advi-ae.html). "
   ]
  },
  {
   "cell_type": "markdown",
   "metadata": {},
   "source": [
    "- Notebook Written by Taku Yoshioka (c) 2016"
   ]
  },
  {
   "cell_type": "markdown",
   "metadata": {},
   "source": [
    "To use Keras with PyMC3, we need to choose [Theano](http://deeplearning.net/software/theano/) as the backend for Keras. "
   ]
  },
  {
   "cell_type": "code",
   "execution_count": null,
   "metadata": {
    "collapsed": true
   },
   "outputs": [],
   "source": [
    "%autosave 0\n",
    "%matplotlib inline\n",
    "import sys, os\n",
    "%env KERAS_BACKEND=theano\n",
    "%env THEANO_FLAGS=device=cuda3,floatX=float32,optimizer=fast_run\n",
    "\n",
    "from collections import OrderedDict\n",
    "from keras.layers import InputLayer, BatchNormalization, Dense, Conv2D, Deconv2D, Activation, Flatten, Reshape\n",
    "import numpy as np\n",
    "import pymc3 as pm\n",
    "from theano import shared, config, function, clone, pp\n",
    "import theano.tensor as tt\n",
    "import keras\n",
    "import matplotlib\n",
    "import matplotlib.pyplot as plt\n",
    "import matplotlib.gridspec as gridspec\n",
    "import seaborn as sns\n",
    "\n",
    "from keras import backend as K\n",
    "K.set_image_dim_ordering('th')"
   ]
  },
  {
   "cell_type": "code",
   "execution_count": 2,
   "metadata": {},
   "outputs": [
    {
     "name": "stdout",
     "output_type": "stream",
     "text": [
      "3.1\n",
      "0.9.0\n",
      "2.0.4\n"
     ]
    }
   ],
   "source": [
    "import pymc3, theano\n",
    "print(pymc3.__version__)\n",
    "print(theano.__version__)\n",
    "print(keras.__version__)"
   ]
  },
  {
   "cell_type": "markdown",
   "metadata": {},
   "source": [
    "## Load images\n",
    "MNIST dataset can be obtained by [scikit-learn API](http://scikit-learn.org/stable/datasets/) or from [Keras datasets](https://keras.io/datasets/). The dataset contains images of digits. "
   ]
  },
  {
   "cell_type": "code",
   "execution_count": 3,
   "metadata": {},
   "outputs": [
    {
     "name": "stdout",
     "output_type": "stream",
     "text": [
      "Downloading data from https://s3.amazonaws.com/img-datasets/mnist.npz\n"
     ]
    }
   ],
   "source": [
    "from keras.datasets import mnist\n",
    "(x_train, y_train), (x_test, y_test) = mnist.load_data()\n",
    "data = pm.floatX(x_train.reshape(-1, 1, 28, 28))\n",
    "data /= np.max(data)"
   ]
  },
  {
   "cell_type": "markdown",
   "metadata": {},
   "source": [
    "## Use Keras\n",
    "We define a utility function to get parameters from Keras models. Since we have set the backend to Theano, parameter objects are obtained as shared variables of Theano. \n",
    "\n",
    "In the code, 'updates' are expected to include update objects (dictionary of pairs of shared variables and update equation) of scaling parameters of batch normalization. While not using batch normalization in this example, if we want to use it, we need to pass these update objects as an argument of `theano.function()` inside the PyMC3 ADVI function. The current version of PyMC3 does not support it, it is easy to modify (I want to send PR in future). \n",
    "\n",
    "The learning phase below is used for Keras to known the learning phase, training or test. This information is important also for batch normalization. "
   ]
  },
  {
   "cell_type": "code",
   "execution_count": 4,
   "metadata": {
    "collapsed": true
   },
   "outputs": [],
   "source": [
    "from keras.models import Sequential\n",
    "from keras.layers import Dense, BatchNormalization\n",
    "\n",
    "def get_params(model):\n",
    "    \"\"\"Get parameters and updates from Keras model\n",
    "    \"\"\"\n",
    "    shared_in_updates = list()\n",
    "    params = list()\n",
    "    updates = dict()\n",
    "    \n",
    "    for l in model.layers:\n",
    "        attrs = dir(l)\n",
    "        # Updates\n",
    "        if 'updates' in attrs:\n",
    "            updates.update(l.updates)\n",
    "            shared_in_updates += [e[0] for e in l.updates]\n",
    "        \n",
    "        # Shared variables\n",
    "        for attr_str in attrs:\n",
    "            attr = getattr(l, attr_str)\n",
    "            if isinstance(attr, tt.compile.SharedVariable):\n",
    "                if attr is not model.get_input_at(0):\n",
    "                    params.append(attr)\n",
    "    \n",
    "    return list(set(params) - set(shared_in_updates)), updates\n",
    "\n",
    "# This code is required when using BatchNormalization layer\n",
    "keras.backend.theano_backend._LEARNING_PHASE = \\\n",
    "    shared(np.uint8(1), name='keras_learning_phase')"
   ]
  },
  {
   "cell_type": "markdown",
   "metadata": {},
   "source": [
    "## Encoder and decoder"
   ]
  },
  {
   "cell_type": "markdown",
   "metadata": {},
   "source": [
    "First, we define the convolutional neural network for encoder using the Keras API. This function returns a CNN model given the shared variable representing observations (images of digits), the dimension of latent space, and the parameters of the model architecture. "
   ]
  },
  {
   "cell_type": "code",
   "execution_count": 8,
   "metadata": {
    "collapsed": true
   },
   "outputs": [],
   "source": [
    "def cnn_enc(xs, latent_dim, nb_filters=64, nb_conv=3, intermediate_dim=128):\n",
    "    \"\"\"Returns a CNN model of Keras.\n",
    "    \n",
    "    Parameters\n",
    "    ----------\n",
    "    xs : theano.TensorVariable\n",
    "        Input tensor.\n",
    "    latent_dim : int\n",
    "        Dimension of latent vector.\n",
    "    \"\"\"\n",
    "    input_layer = InputLayer(input_tensor=xs, \n",
    "                             batch_input_shape=xs.tag.test_value.shape)\n",
    "    model = Sequential()\n",
    "    model.add(input_layer)\n",
    "    \n",
    "    cp1 = {'padding': 'same', 'activation': 'relu'}\n",
    "    cp2 = {'padding': 'same', 'activation': 'relu', 'strides': (2, 2)}\n",
    "    cp3 = {'padding': 'same', 'activation': 'relu', 'strides': (1, 1)}\n",
    "    cp4 = cp3\n",
    "    \n",
    "    model.add(Conv2D(1, (2, 2), **cp1))\n",
    "    model.add(Conv2D(nb_filters, (2, 2), **cp2))\n",
    "    model.add(Conv2D(nb_filters, (nb_conv, nb_conv), **cp3))\n",
    "    model.add(Conv2D(nb_filters, (nb_conv, nb_conv), **cp4))\n",
    "    model.add(Flatten())\n",
    "    model.add(Dense(intermediate_dim, activation='relu'))\n",
    "    model.add(Dense(2 * latent_dim))\n",
    "\n",
    "    return model"
   ]
  },
  {
   "cell_type": "markdown",
   "metadata": {},
   "source": [
    "Then we define a utility class for encoders. This class does not depend on the architecture of the encoder except for input shape (`tensor4` for images), so we can use this class for various encoding networks. "
   ]
  },
  {
   "cell_type": "code",
   "execution_count": 9,
   "metadata": {
    "collapsed": true
   },
   "outputs": [],
   "source": [
    "class Encoder:\n",
    "    \"\"\"Encode observed images to variational parameters (mean/std of Gaussian).\n",
    "\n",
    "    Parameters\n",
    "    ----------\n",
    "    xs : theano.tensor.sharedvar.TensorSharedVariable\n",
    "        Placeholder of input images. \n",
    "    dim_hidden : int\n",
    "        The number of hidden variables. \n",
    "    net : Function\n",
    "        Returns \n",
    "    \"\"\"\n",
    "    def __init__(self, xs, dim_hidden, net):\n",
    "        model = net(xs, dim_hidden)\n",
    "        \n",
    "        self.model = model\n",
    "        self.xs = xs\n",
    "        self.out = model.get_output_at(-1)\n",
    "        self.means = self.out[:, :dim_hidden]\n",
    "        self.rhos = self.out[:, dim_hidden:]\n",
    "        self.params, self.updates = get_params(model)\n",
    "        self.enc_func = None\n",
    "        self.dim_hidden = dim_hidden\n",
    "        \n",
    "    def _get_enc_func(self):\n",
    "        if self.enc_func is None:\n",
    "            xs = tt.tensor4()\n",
    "            means = clone(self.means, {self.xs: xs})\n",
    "            rhos = clone(self.rhos, {self.xs: xs})\n",
    "            self.enc_func = function([xs], [means, rhos])\n",
    "            \n",
    "        return self.enc_func\n",
    "    \n",
    "    def encode(self, xs):\n",
    "        # Used in test phase\n",
    "        keras.backend.theano_backend._LEARNING_PHASE.set_value(np.uint8(0))\n",
    "        \n",
    "        enc_func = self._get_enc_func()\n",
    "        means, _ = enc_func(xs)\n",
    "        \n",
    "        return means\n",
    "\n",
    "    def draw_samples(self, xs, n_samples=1):\n",
    "        \"\"\"Draw samples of hidden variables based on variational parameters encoded.\n",
    "        \n",
    "        Parameters\n",
    "        ----------\n",
    "        xs : numpy.ndarray, shape=(n_images, 1, height, width)\n",
    "            Images.\n",
    "        \"\"\"\n",
    "        # Used in test phase\n",
    "        keras.backend.theano_backend._LEARNING_PHASE.set_value(np.uint8(0))\n",
    "\n",
    "        enc_func = self._get_enc_func()\n",
    "        means, rhos = enc_func(xs)\n",
    "        means = np.repeat(means, n_samples, axis=0)\n",
    "        rhos = np.repeat(rhos, n_samples, axis=0)\n",
    "        ns = np.random.randn(len(xs) * n_samples, self.dim_hidden)\n",
    "        zs = means + pm.distributions.dist_math.rho2sd(rhos) * ns\n",
    "        \n",
    "        return zs"
   ]
  },
  {
   "cell_type": "markdown",
   "metadata": {},
   "source": [
    "In a similar way, we define the decoding network and a utility class for decoders. "
   ]
  },
  {
   "cell_type": "code",
   "execution_count": 10,
   "metadata": {
    "collapsed": true
   },
   "outputs": [],
   "source": [
    "def cnn_dec(zs, nb_filters=64, nb_conv=3, output_shape=(1, 28, 28)):\n",
    "    \"\"\"Returns a CNN model of Keras.\n",
    "    \n",
    "    Parameters\n",
    "    ----------\n",
    "    zs : theano.tensor.var.TensorVariable\n",
    "        Input tensor.\n",
    "    \"\"\"\n",
    "    minibatch_size, dim_hidden = zs.tag.test_value.shape\n",
    "    input_layer = InputLayer(input_tensor=zs, \n",
    "                             batch_input_shape=zs.tag.test_value.shape)\n",
    "    model = Sequential()\n",
    "    model.add(input_layer)\n",
    "        \n",
    "    model.add(Dense(dim_hidden, activation='relu'))\n",
    "    model.add(Dense(nb_filters * 14 * 14, activation='relu'))\n",
    "    \n",
    "    cp1 = {'padding': 'same', 'activation': 'relu', 'strides': (1, 1)}\n",
    "    cp2 = cp1\n",
    "    cp3 = {'padding': 'valid', 'activation': 'relu', 'strides': (2, 2)}\n",
    "    cp4 = {'padding': 'same',  'activation': 'sigmoid'}\n",
    "\n",
    "    output_shape_ = (minibatch_size, nb_filters, 14, 14)\n",
    "    model.add(Reshape(output_shape_[1:]))\n",
    "    model.add(Deconv2D(nb_filters, (nb_conv, nb_conv), data_format='channels_first', **cp1))\n",
    "    model.add(Deconv2D(nb_filters, (nb_conv, nb_conv), data_format='channels_first', **cp2))\n",
    "    output_shape_ = (minibatch_size, nb_filters, 29, 29)\n",
    "    model.add(Deconv2D(nb_filters, (2, 2), data_format='channels_first', **cp3))\n",
    "    model.add(Conv2D(1, (2, 2), **cp4))\n",
    "\n",
    "    return model"
   ]
  },
  {
   "cell_type": "code",
   "execution_count": 11,
   "metadata": {
    "collapsed": true
   },
   "outputs": [],
   "source": [
    "class Decoder:\n",
    "    \"\"\"Decode hidden variables to images.\n",
    "    \n",
    "    Parameters\n",
    "    ----------\n",
    "    zs : Theano tensor\n",
    "        Hidden variables.\n",
    "    \"\"\"\n",
    "    def __init__(self, zs, net):\n",
    "        model = net(zs)\n",
    "        self.model = model\n",
    "        self.zs = zs\n",
    "        self.out = model.get_output_at(-1)\n",
    "        self.params, self.updates = get_params(model)\n",
    "        self.dec_func = None\n",
    "        \n",
    "    def _get_dec_func(self):\n",
    "        if self.dec_func is None:\n",
    "            zs = tt.matrix()\n",
    "            xs = clone(self.out, {self.zs: zs})\n",
    "            self.dec_func = function([zs], xs)\n",
    "            \n",
    "        return self.dec_func\n",
    "        \n",
    "    def decode(self, zs):\n",
    "        \"\"\"Decode hidden variables to images. \n",
    "        \n",
    "        An image consists of the mean parameters of the observation noise.\n",
    "        \n",
    "        Parameters\n",
    "        ----------\n",
    "        zs : numpy.ndarray, shape=(n_samples, dim_hidden)\n",
    "            Hidden variables. \n",
    "        \"\"\"    \n",
    "        # Used in test phase\n",
    "        keras.backend.theano_backend._LEARNING_PHASE.set_value(np.uint8(0))\n",
    "\n",
    "        return self._get_dec_func()(zs)"
   ]
  },
  {
   "cell_type": "markdown",
   "metadata": {},
   "source": [
    "## Generative model\n",
    "We can construct the generative model with the PyMC3 API and the functions and classes defined above. We set the size of mini-batches to 100 and the dimension of the latent space to 2 for visualization. "
   ]
  },
  {
   "cell_type": "code",
   "execution_count": 12,
   "metadata": {
    "collapsed": true
   },
   "outputs": [],
   "source": [
    "# Constants\n",
    "minibatch_size = 100\n",
    "dim_hidden = 2"
   ]
  },
  {
   "cell_type": "markdown",
   "metadata": {},
   "source": [
    "We require a placeholder for images, into which mini-batches of images will be placed during ADVI inference. It is also the input for the encoder. Below, `enc.model` is a Keras model of the encoder network and we can check the model architecture using the method `summary()`. "
   ]
  },
  {
   "cell_type": "code",
   "execution_count": 13,
   "metadata": {},
   "outputs": [
    {
     "name": "stdout",
     "output_type": "stream",
     "text": [
      "_________________________________________________________________\n",
      "Layer (type)                 Output Shape              Param #   \n",
      "=================================================================\n",
      "input_1 (InputLayer)         (100, 1, 28, 28)          0         \n",
      "_________________________________________________________________\n",
      "conv2d_1 (Conv2D)            (100, 1, 28, 28)          5         \n",
      "_________________________________________________________________\n",
      "conv2d_2 (Conv2D)            (100, 64, 14, 14)         320       \n",
      "_________________________________________________________________\n",
      "conv2d_3 (Conv2D)            (100, 64, 14, 14)         36928     \n",
      "_________________________________________________________________\n",
      "conv2d_4 (Conv2D)            (100, 64, 14, 14)         36928     \n",
      "_________________________________________________________________\n",
      "flatten_1 (Flatten)          (100, 12544)              0         \n",
      "_________________________________________________________________\n",
      "dense_1 (Dense)              (100, 128)                1605760   \n",
      "_________________________________________________________________\n",
      "dense_2 (Dense)              (100, 4)                  516       \n",
      "=================================================================\n",
      "Total params: 1,680,457\n",
      "Trainable params: 1,680,457\n",
      "Non-trainable params: 0\n",
      "_________________________________________________________________\n"
     ]
    }
   ],
   "source": [
    "# Placeholder of images\n",
    "xs_t = tt.tensor4(name='xs_t')\n",
    "xs_t.tag.test_value = np.zeros((minibatch_size, 1, 28, 28)).astype('float32')\n",
    "# Encoder\n",
    "enc = Encoder(xs_t, dim_hidden, net=cnn_enc)\n",
    "enc.model.summary()"
   ]
  },
  {
   "cell_type": "markdown",
   "metadata": {},
   "source": [
    "The probabilistic model involves only two random variables; latent variable $\\mathbf{z}$ and observation $\\mathbf{x}$. We put a Normal prior on $\\mathbf{z}$, decode the variational parameters of $q(\\mathbf{z}|\\mathbf{x})$ and define the likelihood of the observation $\\mathbf{x}$. "
   ]
  },
  {
   "cell_type": "code",
   "execution_count": 14,
   "metadata": {
    "collapsed": true
   },
   "outputs": [],
   "source": [
    "with pm.Model() as model:\n",
    "    # Hidden variables\n",
    "    zs = pm.Normal('zs', mu=0, sd=1, shape=(minibatch_size, dim_hidden), dtype='float32', total_size=len(data))\n",
    "\n",
    "    # Decoder and its parameters\n",
    "    dec = Decoder(zs, net=cnn_dec)\n",
    "    \n",
    "    # Observation model\n",
    "    xs_ = pm.Normal('xs_', mu=dec.out, sd=0.1, observed=xs_t, dtype='float32', total_size=len(data))"
   ]
  },
  {
   "cell_type": "markdown",
   "metadata": {},
   "source": [
    "In the generative model above, we do not know how the decoded variational parameters are passed to $q(\\mathbf{z}|\\mathbf{x})$. To do this, we will set the argument `local_RVs` in the ADVI function of PyMC3. "
   ]
  },
  {
   "cell_type": "code",
   "execution_count": 15,
   "metadata": {
    "collapsed": true
   },
   "outputs": [],
   "source": [
    "local_RVs = OrderedDict({zs: dict(mu=enc.means, rho=enc.rhos)})"
   ]
  },
  {
   "cell_type": "markdown",
   "metadata": {},
   "source": [
    "This argument is an `OrderedDict` whose keys are random variables to which the decoded variational parameters are set (`zs` in this model). Each value of the dictionary contains two Theano expressions representing variational mean (`enc.means`) and rhos (`enc.rhos`). A scaling constant (`len(data) / float(minibatch_size)`) is set automatically (as we specified it in the model saying what's the `total_size`) to compensate for the size of mini-batches of the corresponding log probability terms in the evidence lower bound (ELBO), the objective of the variational inference. \n",
    "\n",
    "The scaling constant for the observed random variables is set in the same way. "
   ]
  },
  {
   "cell_type": "markdown",
   "metadata": {},
   "source": [
    "We can also check the architecture of the decoding network, as we did for the encoding network. "
   ]
  },
  {
   "cell_type": "code",
   "execution_count": 16,
   "metadata": {},
   "outputs": [
    {
     "name": "stdout",
     "output_type": "stream",
     "text": [
      "_________________________________________________________________\n",
      "Layer (type)                 Output Shape              Param #   \n",
      "=================================================================\n",
      "input_2 (InputLayer)         (100, 2)                  0         \n",
      "_________________________________________________________________\n",
      "dense_3 (Dense)              (100, 2)                  6         \n",
      "_________________________________________________________________\n",
      "dense_4 (Dense)              (100, 12544)              37632     \n",
      "_________________________________________________________________\n",
      "reshape_1 (Reshape)          (100, 64, 14, 14)         0         \n",
      "_________________________________________________________________\n",
      "conv2d_transpose_1 (Conv2DTr (100, 64, 14, 14)         36928     \n",
      "_________________________________________________________________\n",
      "conv2d_transpose_2 (Conv2DTr (100, 64, 14, 14)         36928     \n",
      "_________________________________________________________________\n",
      "conv2d_transpose_3 (Conv2DTr (100, 64, 28, 28)         16448     \n",
      "_________________________________________________________________\n",
      "conv2d_5 (Conv2D)            (100, 1, 28, 28)          257       \n",
      "=================================================================\n",
      "Total params: 128,199\n",
      "Trainable params: 128,199\n",
      "Non-trainable params: 0\n",
      "_________________________________________________________________\n"
     ]
    }
   ],
   "source": [
    "dec.model.summary()"
   ]
  },
  {
   "cell_type": "markdown",
   "metadata": {},
   "source": [
    "## Inference"
   ]
  },
  {
   "cell_type": "markdown",
   "metadata": {},
   "source": [
    "Let's use ADVI to fit the model. "
   ]
  },
  {
   "cell_type": "code",
   "execution_count": 17,
   "metadata": {
    "scrolled": false
   },
   "outputs": [
    {
     "name": "stderr",
     "output_type": "stream",
     "text": [
      "Average Loss = 1.9145e+07: 100%|██████████| 15000/15000 [3:02:18<00:00,  1.28it/s]  \n",
      "Finished [100%]: Average Loss = 1.9133e+07\n"
     ]
    }
   ],
   "source": [
    "# In memory Minibatches for better speed\n",
    "xs_t_minibatch = pm.Minibatch(data, minibatch_size)\n",
    "\n",
    "with model:\n",
    "    approx = pm.fit(\n",
    "        15000,\n",
    "        local_rv=local_RVs,\n",
    "        more_obj_params=enc.params + dec.params, \n",
    "        obj_optimizer=pm.rmsprop(learning_rate=0.001),\n",
    "        more_replacements={xs_t:xs_t_minibatch},\n",
    "    )"
   ]
  },
  {
   "cell_type": "markdown",
   "metadata": {},
   "source": [
    "## Results"
   ]
  },
  {
   "cell_type": "markdown",
   "metadata": {},
   "source": [
    "We can plot the trace of the negative ELBO obtained during optimization, to verify convergence. "
   ]
  },
  {
   "cell_type": "code",
   "execution_count": 18,
   "metadata": {},
   "outputs": [
    {
     "data": {
      "image/png": "[encoded data removed]",
      "text/plain": [
       "<matplotlib.figure.Figure at 0x142b34da0>"
      ]
     },
     "metadata": {},
     "output_type": "display_data"
    }
   ],
   "source": [
    "plt.plot(approx.hist);"
   ]
  },
  {
   "cell_type": "markdown",
   "metadata": {},
   "source": [
    "Finally, we can plot the distribution of the images in the latent space. To do this, we make a 2-dimensional grid of points and feed them into the decoding network. The mean of $p(\\mathbf{x}|\\mathbf{z})$ is the image corresponding to the samples on the grid. "
   ]
  },
  {
   "cell_type": "code",
   "execution_count": 19,
   "metadata": {},
   "outputs": [
    {
     "data": {
      "image/png": "[encoded data removed]",
      "text/plain": [
       "<matplotlib.figure.Figure at 0x13f264a58>"
      ]
     },
     "metadata": {},
     "output_type": "display_data"
    }
   ],
   "source": [
    "nn = 10\n",
    "zs = np.array([(z1, z2) \n",
    "               for z1 in np.linspace(-2, 2, nn) \n",
    "               for z2 in np.linspace(-2, 2, nn)]).astype('float32')\n",
    "xs = dec.decode(zs)[:, 0, :, :]\n",
    "xs = np.bmat([[xs[i + j * nn] for i in range(nn)] for j in range(nn)])\n",
    "matplotlib.rc('axes', **{'grid': False})\n",
    "plt.figure(figsize=(10, 10))\n",
    "plt.imshow(xs, interpolation='none', cmap='gray')\n",
    "plt.show()"
   ]
  }
 ],
 "metadata": {
  "anaconda-cloud": {},
  "kernelspec": {
   "display_name": "Python 3",
   "language": "python",
   "name": "python3"
  },
  "language_info": {
   "codemirror_mode": {
    "name": "ipython",
    "version": 3
   },
   "file_extension": ".py",
   "mimetype": "text/x-python",
   "name": "python",
   "nbconvert_exporter": "python",
   "pygments_lexer": "ipython3",
   "version": "3.6.0b4"
  },
  "latex_envs": {
   "bibliofile": "biblio.bib",
   "cite_by": "apalike",
   "current_citInitial": 1,
   "eqLabelWithNumbers": true,
   "eqNumInitial": 0
  },
  "nav_menu": {},
  "toc": {
   "navigate_menu": true,
   "number_sections": true,
   "sideBar": true,
   "threshold": 6,
   "toc_cell": false,
   "toc_section_display": "block",
   "toc_window_display": true
  }
 },
 "nbformat": 4,
 "nbformat_minor": 1
}
